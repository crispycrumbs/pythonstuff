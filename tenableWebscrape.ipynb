{
 "cells": [
  {
   "cell_type": "code",
   "execution_count": 2,
   "metadata": {},
   "outputs": [],
   "source": [
    "#Import dependencies\n",
    "from bs4 import BeautifulSoup\n",
    "import requests"
   ]
  },
  {
   "cell_type": "code",
   "execution_count": 3,
   "metadata": {},
   "outputs": [],
   "source": [
    "#Retrieve page with the requests module\n",
    "data = []\n",
    "page_to_scrape = requests.get(\"https://tenable.com/plugins/newest\")\n",
    "soup = BeautifulSoup(page_to_scrape.text, \"html.parser\")\n",
    "table = soup.find('table', attrs={'class':'results-table table'})\n",
    "table_body = table.find('tbody')\n",
    "rows = table_body.find_all('tr')\n",
    "for row in rows:\n",
    "    cols = row.find_all('td')\n",
    "    cols = [ele.text.strip() for ele in cols]\n",
    "    data.append([ele for ele in cols if ele]) # Get rid of empty values\n",
    "\n",
    "\n"
   ]
  },
  {
   "cell_type": "code",
   "execution_count": 4,
   "metadata": {},
   "outputs": [
    {
     "name": "stdout",
     "output_type": "stream",
     "text": [
      "[['156100', 'OpenSSL 3.0.0 < 3.0.1 Vulnerability', 'Nessus', 'Web Servers', '12/15/2021', 'high'], ['156099', 'SUSE SLES11 Security Update : xorg-x11-server (SUSE-SU-2021:14863-1)', 'Nessus', 'SuSE Local Security Checks', '12/15/2021', 'critical'], ['156098', 'SUSE SLES15 Security Update : xorg-x11-server (SUSE-SU-2021:4071-1)', 'Nessus', 'SuSE Local Security Checks', '12/15/2021', 'critical'], ['156097', 'SUSE SLES12 Security Update : gettext-runtime (SUSE-SU-2021:4060-1)', 'Nessus', 'SuSE Local Security Checks', '12/15/2021', 'critical'], ['156096', 'SUSE SLED12 / SLES12 Security Update : xorg-x11-server (SUSE-SU-2021:4066-1)', 'Nessus', 'SuSE Local Security Checks', '12/15/2021', 'critical'], ['156095', 'SUSE SLES15 Security Update : kernel (Live Patch 20 for SLE 15 SP2) (SUSE-SU-2021:4075-1)', 'Nessus', 'SuSE Local Security Checks', '12/15/2021', 'high'], ['156094', 'SUSE SLES15 Security Update : kernel (Live Patch 15 for SLE 15 SP2) (SUSE-SU-2021:4090-1)', 'Nessus', 'SuSE Local Security Checks', '12/15/2021', 'medium'], ['156093', 'SUSE SLED15 / SLES15 Security Update : postgresql10 (SUSE-SU-2021:4058-1)', 'Nessus', 'SuSE Local Security Checks', '12/15/2021', 'high'], ['156092', 'SUSE SLES12 Security Update : kernel (Live Patch 25 for SLE 12 SP5) (SUSE-SU-2021:4021-1)', 'Nessus', 'SuSE Local Security Checks', '12/15/2021', 'medium'], ['156091', 'SUSE SLES15 Security Update : xorg-x11-server (SUSE-SU-2021:4065-1)', 'Nessus', 'SuSE Local Security Checks', '12/15/2021', 'critical'], ['156090', 'SUSE SLED15 / SLES15 Security Update : fetchmail (SUSE-SU-2021:4018-1)', 'Nessus', 'SuSE Local Security Checks', '12/15/2021', 'medium'], ['156089', 'SUSE SLED15 / SLES15 Security Update : icu.691 (SUSE-SU-2021:4063-1)', 'Nessus', 'SuSE Local Security Checks', '12/15/2021', 'high'], ['156088', 'SUSE SLES12 / SLES15 Security Update : kernel (Live Patch 26 for SLE 12 SP5) (SUSE-SU-2021:4039-1)', 'Nessus', 'SuSE Local Security Checks', '12/15/2021', 'medium'], ['156087', 'SUSE SLES12 Security Update : xorg-x11-server (SUSE-SU-2021:4064-1)', 'Nessus', 'SuSE Local Security Checks', '12/15/2021', 'critical'], ['156086', 'SUSE SLES12 Security Update : runc (SUSE-SU-2021:4059-1)', 'Nessus', 'SuSE Local Security Checks', '12/15/2021', 'medium'], ['156085', 'SUSE SLES12 Security Update : xorg-x11-server (SUSE-SU-2021:4069-1)', 'Nessus', 'SuSE Local Security Checks', '12/15/2021', 'critical'], ['156084', 'SUSE SLES12 / SLES15 Security Update : kernel (Live Patch 22 for SLE 12 SP4) (SUSE-SU-2021:4038-1)', 'Nessus', 'SuSE Local Security Checks', '12/15/2021', 'medium'], ['156083', 'SUSE SLES12 Security Update : kernel (Live Patch 41 for SLE 12 SP3) (SUSE-SU-2021:4052-1)', 'Nessus', 'SuSE Local Security Checks', '12/15/2021', 'medium'], ['156082', 'SUSE SLES12 Security Update : kernel (Live Patch 40 for SLE 12 SP3) (SUSE-SU-2021:4057-1)', 'Nessus', 'SuSE Local Security Checks', '12/15/2021', 'high'], ['156081', 'SUSE SLES12 Security Update : python-pip (SUSE-SU-2021:4051-1)', 'Nessus', 'SuSE Local Security Checks', '12/15/2021', 'medium'], ['156080', 'SUSE SLED15 / SLES15 Security Update : xorg-x11-server (SUSE-SU-2021:4070-1)', 'Nessus', 'SuSE Local Security Checks', '12/15/2021', 'critical'], ['156079', 'FreeBSD : Privoxy -- Multiple vulnerabilities (memory leak, XSS) (897e1962-5d5a-11ec-a3ed-040e3c3cf7e7)', 'Nessus', 'FreeBSD Local Security Checks', '12/15/2021', 'medium'], ['156078', 'FreeBSD : serviio -- affected by log4j vulnerability (1ea05bb8-5d74-11ec-bb1e-001517a2e1a4)', 'Nessus', 'FreeBSD Local Security Checks', '12/15/2021', 'critical'], ['113075', 'Apache Log4j Remote Code Execution (Log4Shell)', 'Web Application Scanning', 'Component Vulnerability', '12/15/2021', 'critical'], ['156077', 'Microsoft Edge (Chromium) < 96.0.1054.57 Multiple Vulnerabilities', 'Nessus', 'Windows', '12/14/2021', 'critical'], ['156076', 'Ubuntu 18.04 LTS / 20.04 LTS / 21.04 / 21.10 : X.Org X Server vulnerabilities (USN-5193-1)', 'Nessus', 'Ubuntu Local Security Checks', '12/14/2021', 'critical'], ['156075', 'FreeBSD : OpenSSL -- Certificate validation issue (0132ca5b-5d11-11ec-8be6-d4c9ef517024)', 'Nessus', 'FreeBSD Local Security Checks', '12/14/2021', 'high'], ['156074', 'Security Updates for Microsoft Excel Products (December 2021)', 'Nessus', 'Windows : Microsoft Bulletins', '12/14/2021', 'high'], ['156073', 'KB5008285: Windows Server 2012 R2 Security Update (December 2021)', 'Nessus', 'Windows : Microsoft Bulletins', '12/14/2021', 'critical'], ['156072', 'KB5008206: Windows 10 Version 1909 Security Update (December 2021)', 'Nessus', 'Windows : Microsoft Bulletins', '12/14/2021', 'critical'], ['156071', 'KB5008218: Windows 10 version 1809 / Windows Server 2019 Security Update (December 2021)', 'Nessus', 'Windows : Microsoft Bulletins', '12/14/2021', 'critical'], ['156070', 'KB5008230: Windows 10 version 1507 Security Update (December 2021)', 'Nessus', 'Windows : Microsoft Bulletins', '12/14/2021', 'critical'], ['156069', 'KB5008282: Windows Server 2008 R2 Security Update (December 2021)', 'Nessus', 'Windows : Microsoft Bulletins', '12/14/2021', 'critical'], ['156068', 'KB5008215: Windows 11 Security Update (December 2021)', 'Nessus', 'Windows : Microsoft Bulletins', '12/14/2021', 'critical'], ['156067', 'KB5008271: Windows Server 2008 Security Update (December 2021)', 'Nessus', 'Windows : Microsoft Bulletins', '12/14/2021', 'critical'], ['156066', 'KB5008223: Windows Server 2022 Security Update (December 2021)', 'Nessus', 'Windows : Microsoft Bulletins', '12/14/2021', 'critical'], ['156065', 'KB5008212:  Windows 10 Version 2004 / Windows 10 Version 20H2 / Windows 10 Version 21H1 / Windows 10 Version 21H2 Security Update (December 2021)', 'Nessus', 'Windows : Microsoft Bulletins', '12/14/2021', 'critical'], ['156064', 'KB5008255: Windows Server 2012 Security Update (December 2021)', 'Nessus', 'Windows : Microsoft Bulletins', '12/14/2021', 'critical'], ['156063', 'KB5008207: Windows 10 Version 1607 and Windows Server 2016 Security Update (December 2021)', 'Nessus', 'Windows : Microsoft Bulletins', '12/14/2021', 'critical'], ['156062', 'Security Updates for Microsoft Office Products (December 2021)', 'Nessus', 'Windows : Microsoft Bulletins', '12/14/2021', 'high'], ['156061', 'Log4Shell Ecosystem Wrapper', 'Nessus', 'Misc.', '12/14/2021', 'info'], ['156060', 'Adobe Experience Manager 6.5.0.0 < 6.5.11.0 Multiple Vulnerabilities (APSB21-103)', 'Nessus', 'Misc.', '12/14/2021', 'medium'], ['156059', 'Adobe Photoshop 22.x < 22.5.4 / 23.x < 23.1 Multiple Vulnerabilities (APSB21-113)', 'Nessus', 'Windows', '12/14/2021', 'critical'], ['156058', 'Adobe Photoshop 22.x < 22.5.4 / 23.x < 23.1 Multiple Vulnerabilities (macOS APSB21-113)', 'Nessus', 'MacOS X Local Security Checks', '12/14/2021', 'critical'], ['156057', 'Apache Log4j 2.x < 2.16.0 DoS', 'Nessus', 'Misc.', '12/14/2021', 'low'], ['156056', 'Apache Log4Shell RCE detection via Raw Socket Logging (Direct Check)', 'Nessus', 'Misc.', '12/14/2021', 'critical'], ['156055', 'Ubuntu 18.04 LTS / 20.04 LTS / 21.04 / 21.10 : Flatpak vulnerability (USN-5191-1)', 'Nessus', 'Ubuntu Local Security Checks', '12/14/2021', 'high'], ['156054', 'Ubuntu 18.04 LTS / 20.04 LTS : Apache Log4j 2 vulnerability (USN-5192-1)', 'Nessus', 'Ubuntu Local Security Checks', '12/14/2021', 'critical'], ['156053', 'FreeBSD : chromium -- multiple vulnerabilities (fb9ba490-5cc4-11ec-aac7-3065ec8fd3ec)', 'Nessus', 'FreeBSD Local Security Checks', '12/14/2021', 'critical'], ['156052', 'FreeBSD : bastillion -- log4j vulnerability (515df85a-5cd7-11ec-a16d-001517a2e1a4)', 'Nessus', 'FreeBSD Local Security Checks', '12/14/2021', 'critical']]\n"
     ]
    }
   ],
   "source": [
    "#print(data)"
   ]
  }
 ],
 "metadata": {
  "interpreter": {
   "hash": "209ddd9b403c57e5c24e49c65219a9ce9fe745efdf85559468127741a95325c2"
  },
  "kernelspec": {
   "display_name": "Python 3.10.0 64-bit",
   "language": "python",
   "name": "python3"
  },
  "language_info": {
   "codemirror_mode": {
    "name": "ipython",
    "version": 3
   },
   "file_extension": ".py",
   "mimetype": "text/x-python",
   "name": "python",
   "nbconvert_exporter": "python",
   "pygments_lexer": "ipython3",
   "version": "3.10.0"
  },
  "orig_nbformat": 4
 },
 "nbformat": 4,
 "nbformat_minor": 2
}
