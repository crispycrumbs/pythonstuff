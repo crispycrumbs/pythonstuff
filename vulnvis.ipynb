{
 "cells": [
  {
   "cell_type": "code",
   "execution_count": 38,
   "metadata": {},
   "outputs": [],
   "source": [
    "import pandas as pd\n",
    "import matplotlib.pyplot as plt\n",
    "import numpy as np"
   ]
  },
  {
   "cell_type": "code",
   "execution_count": 3,
   "metadata": {},
   "outputs": [],
   "source": [
    "data = pd.read_csv('PracticeVulnData.csv')"
   ]
  },
  {
   "cell_type": "code",
   "execution_count": 8,
   "metadata": {},
   "outputs": [],
   "source": [
    "#sets up severity as a separate variable for future plotting\n",
    "Critical = data[data.Risk == 'Critical']\n",
    "High = data[data.Risk == 'High']\n",
    "Medium = data[data.Risk == 'Medium']\n",
    "Low = data[data.Risk == 'Low']\n",
    "Info = data[data.Risk == 'Info']\n",
    "#a list used to iterate through for plotting multiple counts\n",
    "Sevs = ['Critical','High','Medium','Low','Info']"
   ]
  },
  {
   "cell_type": "code",
   "execution_count": 46,
   "metadata": {},
   "outputs": [],
   "source": [
    "#dataframe of counts by severity\n",
    "counts = pd.crosstab(index=data['Risk'], columns='num')"
   ]
  },
  {
   "cell_type": "code",
   "execution_count": 47,
   "metadata": {},
   "outputs": [
    {
     "data": {
      "text/plain": [
       "Text(0, 0.5, 'Count of Vulns')"
      ]
     },
     "execution_count": 47,
     "metadata": {},
     "output_type": "execute_result"
    },
    {
     "data": {
      "image/png": "[encoded data removed]",
      "text/plain": [
       "<Figure size 432x288 with 1 Axes>"
      ]
     },
     "metadata": {
      "needs_background": "light"
     },
     "output_type": "display_data"
    }
   ],
   "source": [
    "counts['num'].plot(kind='bar', title=\"Vuln Count by Severity\")\n",
    "plt.title(\"Vuln Count by Severity\")\n",
    "plt.xlabel(\"Severities\")\n",
    "plt.ylabel(\"Count of Vulns\")"
   ]
  },
  {
   "cell_type": "code",
   "execution_count": null,
   "metadata": {},
   "outputs": [],
   "source": []
  }
 ],
 "metadata": {
  "interpreter": {
   "hash": "8fa8db45c6341d4c26f24dc8381e2c3c432060d26e2837089ffdef2b93d69026"
  },
  "kernelspec": {
   "display_name": "Python 3.9.12 64-bit (windows store)",
   "language": "python",
   "name": "python3"
  },
  "language_info": {
   "codemirror_mode": {
    "name": "ipython",
    "version": 3
   },
   "file_extension": ".py",
   "mimetype": "text/x-python",
   "name": "python",
   "nbconvert_exporter": "python",
   "pygments_lexer": "ipython3",
   "version": "3.9.12"
  },
  "orig_nbformat": 4
 },
 "nbformat": 4,
 "nbformat_minor": 2
}
